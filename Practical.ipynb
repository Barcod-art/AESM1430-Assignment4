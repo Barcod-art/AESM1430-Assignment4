{
 "cells": [
  {
   "cell_type": "markdown",
   "metadata": {},
   "source": [
    "## <font color='Blue'>Introduction</font>\n",
    "###  In the practical, we run the example model for evaluation of permebaility field.\n",
    "\n",
    "## <font color='blue'>The objectives:</font>\n",
    "1. Introduce custom <font color='red'>'Model'</font> class based on \n",
    " * Class [DartsModel](./darts/models/darts_model.py) with base model capabilities\n",
    " * Class [StructReservoir](./darts/models/reservoirs/struct_reservoir.py) with structured reservoir\n",
    " * Class [Deadoil](./darts/models/physics/dead_oil_python.py) for basic dead oil physics\n",
    " * Class [Deadoil-properties](./darts/models/physics/do_properties_python.py) for dead oil properties, such as density, viscosity and relative permeability\n",
    "2. Use run_python procedure to control run from the python script\n",
    "3. Introduce wells and time-dependent well controls\n",
    "4. Redefine physical properties and run simulation with custom-defined property.\n",
    "\n",
    "## <font color='Blue'>Let's start!</font>\n"
   ]
  },
  {
   "cell_type": "code",
   "execution_count": null,
   "metadata": {},
   "outputs": [],
   "source": [
    "from darts.models.reservoirs.struct_reservoir import StructReservoir\n",
    "from darts.models.physics.dead_oil_python import DeadOil\n",
    "from darts.models.darts_model import DartsModel\n",
    "from darts.engines import value_vector\n",
    "from darts.tools.keyword_file_tools import load_single_keyword\n",
    "\n",
    "import numpy as np\n",
    "import matplotlib.pyplot as plt"
   ]
  },
  {
   "cell_type": "markdown",
   "metadata": {},
   "source": [
    "#### Brief Introduction of model inheritance\n",
    "* Here create the <font color='red'>'Model' </font>  class, which inherits from <font color='red'>DartsModel</font> (the base class).\n",
    "* It keeps all the functionalities of <font color='red'>DartsModel</font> and can also be extended to add more functionalities.\n",
    "* If a function is redefined in subclass, the function in base class with identical name will be overridden."
   ]
  },
  {
   "cell_type": "code",
   "execution_count": null,
   "metadata": {},
   "outputs": [],
   "source": [
    "class Model(DartsModel):\n",
    "    def __init__(self, perm=None, nd = 60, db = 8):\n",
    "        # call base class constructor\n",
    "        super().__init__()\n",
    "\n",
    "        # measure time spend on reading/initialization\n",
    "        self.timer.node[\"initialization\"].start()\n",
    "\n",
    "        # create reservoir\n",
    "        self.nx = nd\n",
    "        self.ny = nd\n",
    "        self.nz = 1\n",
    "        \n",
    "        self.dx = db\n",
    "        self.dy = db\n",
    "        self.dz = 4\n",
    "\n",
    "        if (perm is None):\n",
    "            perm = np.ones(self.nx*self.ny)*3000\n",
    "        else:\n",
    "            perm = perm.reshape(self.nx*self.ny)\n",
    "            \n",
    "        self.permx = perm\n",
    "        self.permy = perm\n",
    "        self.permz = 0.1 * perm\n",
    "        self.poro = 0.2\n",
    "        self.depth = 4000\n",
    "\n",
    "        # run discretization\n",
    "        self.reservoir = StructReservoir(self.timer, nx=self.nx, ny=self.ny, nz=self.nz, dx=self.dx, dy=self.dy,\n",
    "                                         dz=self.dz, permx=self.permx, permy=self.permy, permz=self.permz,\n",
    "                                         poro=self.poro, depth=self.depth)\n",
    "\n",
    "        self.ix = np.int32(self.nx / 2)\n",
    "        self.iy = np.int32(self.ny / 2)\n",
    "        \n",
    "        self.reservoir.add_well(\"INJ1\")\n",
    "        self.reservoir.add_perforation(self.reservoir.wells[-1], self.ix, self.iy, 1,  well_index=10)\n",
    "\n",
    "        self.reservoir.add_well(\"PRD1\")\n",
    "        self.reservoir.add_perforation(self.reservoir.wells[-1], self.nx, self.ny, 1, well_index=10)\n",
    "        \n",
    "        # create physics\n",
    "        self.physics = DeadOil(timer=self.timer, physics_filename='physics.in',\n",
    "                               n_points=401, min_p=300, max_p=600, min_z=1e-8)\n",
    "\n",
    "        self.params.first_ts = 1\n",
    "        self.params.mult_ts = 2\n",
    "        self.params.max_ts = 50\n",
    "        self.params.tolerance_newton = 1e-2\n",
    "        self.params.tolerance_linear = 1e-3\n",
    "\n",
    "        self.inj = [1]\n",
    "\n",
    "        self.runtime = 1000\n",
    "\n",
    "        self.timer.node[\"initialization\"].stop()\n",
    "\n",
    "    def set_initial_conditions(self):\n",
    "        self.physics.set_uniform_initial_conditions(self.reservoir.mesh, uniform_pressure=400,\n",
    "                                                    uniform_composition=[0.1])\n",
    "\n",
    "    def set_boundary_conditions(self):\n",
    "        for i, w in enumerate(self.reservoir.wells):\n",
    "            if w.name[:3] == \"INJ\":\n",
    "                w.control = self.physics.new_bhp_water_inj(410, self.inj)\n",
    "                # w.constraint = self.physics.new_rate_water_prod(210)\n",
    "            else:\n",
    "                w.control = self.physics.new_bhp_prod(390)\n",
    "\n",
    "    # This function plots streamlines based on passed pressure solution \n",
    "    # and permebility map from model class\n",
    "    def plot_streamline(self, p, array, col='r'):\n",
    "\n",
    "        P_2D = p.reshape(self.nx, self.ny)\n",
    "        kx = self.permx.reshape(self.ny, self.nx)\n",
    "        ky = self.permy.reshape(self.ny, self.nx)\n",
    "        nvx, nvy = (self.nx-1, self.ny-1)\n",
    "\n",
    "        v = np.zeros((nvx, nvy))\n",
    "        u = np.zeros((nvx, nvy))\n",
    "        ir, jr = (range(nvx), range(nvy))\n",
    "\n",
    "        for i in ir:\n",
    "            v[i, jr] = (kx[i, jr] + kx[i + 1, jr]) * (P_2D[i, jr] - P_2D[i + 1, jr])\n",
    "        for j in jr:\n",
    "            u[ir, j] = (ky[ir, j] + ky[ir, j + 1]) * (P_2D[ir, j] - P_2D[ir, j + 1])\n",
    "\n",
    "        # find circle in 2D index array with radius r\n",
    "        x = np.arange(0, nvx)\n",
    "        y = np.arange(0, nvy)\n",
    "        arr = np.zeros((nvx,nvy))\n",
    "        r = 6. # make sure that the model is larger than [2r] * [2r]\n",
    "        arr[(x[np.newaxis, :] - self.ix) ** 2 + (y[:, np.newaxis] - self.iy) ** 2 < r ** 2] = 1\n",
    "        arr[(x[np.newaxis, :] - self.ix) ** 2 + (y[:, np.newaxis] - self.iy) ** 2 < (r-1) ** 2] = 0\n",
    "\n",
    "        # starting points for streamlines\n",
    "        sp = np.array(np.where(arr == 1))\n",
    "        y, x = np.mgrid[1:nvy+1, 1:nvx+1]\n",
    "        cont = plt.streamplot(x, y, u, v, density=100, color=col, linewidth=1, cmap='autumn', start_points=sp.T)\n",
    "\n",
    "        array=array.reshape(self.ny, self.nx)\n",
    "        plt.pcolor(array)"
   ]
  },
  {
   "cell_type": "markdown",
   "metadata": {},
   "source": [
    "<img style=\"float: left;\" src=\"slides/Slide7.JPG\" width=\"80%\">"
   ]
  },
  {
   "cell_type": "code",
   "execution_count": null,
   "metadata": {
    "scrolled": true
   },
   "outputs": [],
   "source": []
  },
  {
   "cell_type": "markdown",
   "metadata": {},
   "source": [
    "<img style=\"float: left;\" src=\"slides/Slide8.JPG\" width=\"80%\">"
   ]
  },
  {
   "cell_type": "code",
   "execution_count": null,
   "metadata": {},
   "outputs": [],
   "source": []
  },
  {
   "cell_type": "markdown",
   "metadata": {},
   "source": [
    "<img style=\"float: left;\" src=\"slides/Slide9.JPG\" width=\"80%\">"
   ]
  },
  {
   "cell_type": "code",
   "execution_count": null,
   "metadata": {},
   "outputs": [],
   "source": []
  },
  {
   "cell_type": "markdown",
   "metadata": {},
   "source": [
    "<img style=\"float: left;\" src=\"slides/Slide10.JPG\" width=\"80%\">"
   ]
  },
  {
   "cell_type": "code",
   "execution_count": null,
   "metadata": {},
   "outputs": [],
   "source": []
  },
  {
   "cell_type": "markdown",
   "metadata": {},
   "source": [
    "<img style=\"float: left;\" src=\"slides/Slide11.JPG\" width=\"80%\">"
   ]
  },
  {
   "cell_type": "code",
   "execution_count": null,
   "metadata": {},
   "outputs": [],
   "source": []
  },
  {
   "cell_type": "markdown",
   "metadata": {},
   "source": [
    "<img style=\"float: left;\" src=\"slides/Slide12.JPG\" width=\"80%\">"
   ]
  },
  {
   "cell_type": "code",
   "execution_count": null,
   "metadata": {},
   "outputs": [],
   "source": []
  }
 ],
 "metadata": {
  "kernelspec": {
   "display_name": "Python 3",
   "language": "python",
   "name": "python3"
  },
  "language_info": {
   "codemirror_mode": {
    "name": "ipython",
    "version": 3
   },
   "file_extension": ".py",
   "mimetype": "text/x-python",
   "name": "python",
   "nbconvert_exporter": "python",
   "pygments_lexer": "ipython3",
   "version": "3.6.5"
  }
 },
 "nbformat": 4,
 "nbformat_minor": 2
}
